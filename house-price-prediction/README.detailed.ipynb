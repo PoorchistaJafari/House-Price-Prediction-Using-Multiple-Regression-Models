{
 "cells": [
  {
   "cell_type": "markdown",
   "id": "676091fd-ca31-4060-8d9f-545f6e17815f",
   "metadata": {},
   "source": [
    "# California Housing Price Prediction\n",
    "\n",
    "## Project Overview\n",
    "This project focuses on predicting **median house values in California districts** using the **California Housing dataset** from scikit-learn.  \n",
    "The notebook demonstrates a complete **machine learning workflow**: data preprocessing, exploratory data analysis (EDA), model training, evaluation, and result comparison.\n",
    "\n",
    "---\n",
    "\n",
    "## Dataset Description\n",
    "- Source: `fetch_california_housing` from `sklearn.datasets`\n",
    "- Features include:\n",
    "  - Median income\n",
    "  - Average number of rooms\n",
    "  - Average house age\n",
    "  - Population & households\n",
    "  - Latitude & longitude\n",
    "- Target variable: **Median House Value (MedHouseVal)**\n",
    "\n",
    "---\n",
    "\n",
    "## Installation\n",
    "To run this project locally:\n",
    "\n",
    "```bash\n",
    "git clone https://github.com/yourusername/House-Price-Prediction.git\n",
    "cd House-Price-Prediction\n",
    "pip install -r requirements.txt"
   ]
  },
  {
   "cell_type": "markdown",
   "id": "c82d7e6a-cda7-4a8d-9207-132fa69a97d1",
   "metadata": {},
   "source": [
    "# Usage\n",
    "## 1.Open the Jupyter Notebook file:\n",
    "jupyter notebook House_Price_Linear_Regression.ipynb\n",
    "## 2.Run each cell to:\n",
    "- Load and preprocess the dataset\n",
    "- Perform EDA (data visualization, correlations, distributions)\n",
    "- Train regression models (Linear Regression, Random Forest)\n",
    "- Evaluate performance"
   ]
  },
  {
   "cell_type": "markdown",
   "id": "298e28cc-d816-4602-9ebc-f0d7282cde05",
   "metadata": {},
   "source": [
    "# Methodology & Workflow\n",
    "\n",
    "## Data Preprocessing\n",
    "\n",
    "- Handle missing values and outliers\n",
    "- Scale features and correct skewed distributions\n",
    "\n",
    "## Exploratory Data Analysis (EDA)\n",
    "\n",
    "- Feature distribution plots\n",
    "- Correlation heatmap\n",
    "- Insights into relationships between variables\n",
    "\n",
    "## Model Training\n",
    "- Baseline: Linear Regression\n",
    "- Advanced: Random Forest Regression\n",
    "\n",
    "## Model Evaluation\n",
    "- Metrics used: MSE, RMSE, MAE, R²"
   ]
  },
  {
   "cell_type": "markdown",
   "id": "aa25994e-92e4-4bad-ab4a-959805fbd81a",
   "metadata": {},
   "source": [
    "# Results & Evaluation\n",
    "\n",
    "## Linear Regression\n",
    "- MSE: 0.513\n",
    "- RMSE: 0.716\n",
    "- MAE: 0.546\n",
    "- R²: 0.590\n",
    "\n",
    "## Random Forest Regression\n",
    "- MSE: 0.219\n",
    "- RMSE: 0.468\n",
    "- MAE: 0.465\n",
    "- R²: much stronger performance\n",
    "\n",
    "Conclusion: Random Forest outperforms Linear Regression by capturing complex feature interactions and non-linearities."
   ]
  },
  {
   "cell_type": "markdown",
   "id": "ea48aedf-58df-4482-8c60-9846753278eb",
   "metadata": {},
   "source": [
    "## Visualizations\n",
    "- Feature distributions (histograms, density plots)\n",
    "- Correlation heatmap\n",
    "- Actual vs Predicted house prices"
   ]
  },
  {
   "cell_type": "markdown",
   "id": "cee38c38-2b69-4068-9ca4-c54b44fe89d0",
   "metadata": {},
   "source": [
    "## Acknowledgments\n",
    "\n",
    "- **Dataset:** [California Housing dataset](https://www.kaggle.com/datasets/camnugent/california-housing-prices)  \n",
    "- **Libraries:** `scikit-learn`, `pandas`, `numpy`, `matplotlib`, `seaborn`"
   ]
  },
  {
   "cell_type": "markdown",
   "id": "63818796-6233-43fc-a8b2-02a1c4373f2f",
   "metadata": {},
   "source": [
    "## Project Info\n",
    "\n",
    "- **Author:** Poorchista Jafari\n",
    "- **Project Year:** 2025"
   ]
  },
  {
   "cell_type": "code",
   "execution_count": null,
   "id": "d657a7b6-5bf3-42c2-8e21-5da8c01dc5cc",
   "metadata": {},
   "outputs": [],
   "source": []
  }
 ],
 "metadata": {
  "kernelspec": {
   "display_name": "Python [conda env:base] *",
   "language": "python",
   "name": "conda-base-py"
  },
  "language_info": {
   "codemirror_mode": {
    "name": "ipython",
    "version": 3
   },
   "file_extension": ".py",
   "mimetype": "text/x-python",
   "name": "python",
   "nbconvert_exporter": "python",
   "pygments_lexer": "ipython3",
   "version": "3.12.7"
  }
 },
 "nbformat": 4,
 "nbformat_minor": 5
}
